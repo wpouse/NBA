{
 "cells": [
  {
   "cell_type": "code",
   "execution_count": 84,
   "metadata": {},
   "outputs": [],
   "source": [
    "import numpy as np\n",
    "import pandas as pd \n",
    "from itertools import izip"
   ]
  },
  {
   "cell_type": "markdown",
   "metadata": {},
   "source": [
    "Offensive Rating is defined as the team points scored per 100 possessions while the player is on the court.\n",
    "\n",
    "Defensive Rating is defined as the number of points per 100 possessions that the team alows while that individual player is on the court. \n",
    "\n",
    "A possession is ended by\n",
    " -1 made field goal attempts\n",
    " -2 Made final free throw attempt\n",
    " -3 Missed final free throw attempt that results in a defensive reboud\n",
    " -4 Missed field goal attempt that resutls in a defensive rebound\n",
    " -5 turnover\n",
    " -6 end of time period"
   ]
  },
  {
   "cell_type": "code",
   "execution_count": 85,
   "metadata": {},
   "outputs": [],
   "source": [
    "EventCodes = pd.read_csv('Event_Codes.txt', sep='\\t')\n",
    "#Strip excess whitespace that I noticed in Event Message Type Description\n",
    "EventCodes['Event_Msg_Type_Description'] = eventCodes['Event_Msg_Type_Description'].map(str.strip)\n",
    "#eventCodes['Action_Type_Description'] = eventCodes['Action_Type_Description'].map(str.strip)\n",
    "\n",
    "GameLineup = pd.read_csv('Game_Lineup.txt', sep='\\t')\n",
    "PlayByPlay = pd.read_csv('Play_by_Play.txt', sep='\\t')"
   ]
  },
  {
   "cell_type": "markdown",
   "metadata": {},
   "source": [
    "### Order of operations\n",
    "For Game in Games:\n",
    "\n",
    "    For possession in Game:\n",
    "        for player in possession:\n",
    "            update scoring\n",
    "    normalize by count"
   ]
  },
  {
   "cell_type": "code",
   "execution_count": 91,
   "metadata": {},
   "outputs": [],
   "source": [
    "class Game(object):\n",
    "    \n",
    "    def __init__(self, game_id, game_lineup, play_by_play):\n",
    "        \n",
    "        self.game_id = game_id\n",
    "        self.play_by_play = self.chunk_pbp(play_by_play[play_by_play['Game_id'] == game_id])\n",
    "        \n",
    "        # tuple of lists of each player on the team\n",
    "        self.teams = self.make_teams(game_lineup[game_lineup['Game_id']==game_id])\n",
    "    \n",
    "    def compute_ratings(self):\n",
    "        \n",
    "    \n",
    "    def chunk_pbp(self, game_pbp):\n",
    "        sorted_pbp = self.sort_pbp(game_pbp)\n",
    "        real_time = sorted_pbp['PC_Time'].as_matrix()+  (4-sorted_pbp['Period'].as_matrix())*7200\n",
    "        _, unique_idxs = np.unique(real_time, return_index=True)\n",
    "        return np.split(game_pbp.as_matrix(), indices_or_sections=unique_idxs[::-1] )[1:] # remove the first one thats empty\n",
    "        \n",
    "    def sort_pbp(self, game_pbp):\n",
    "        return game_pbp.sort_values(['Period', 'PC_Time', 'WC_Time', 'Event_Num'],\\\n",
    "                                    ascending=[True, False, True,True])\n",
    "    \n",
    "    def __iter__(self):\n",
    "        return self.play_by_play.__iter__()\n",
    "    \n",
    "    def __next__(self):\n",
    "        return self.__next__()\n",
    "    \n",
    "    def make_teams(self, game_lineup):\n",
    "        team1_id, team2_id = np.unique(game_lineup['Team_id'])\n",
    "        team1, team2 = {},{}\n",
    "        for team_id, team_arr in izip((team1_id, team2_id), (team1, team2)):\n",
    "            players_on_team = game_lineup[game_lineup['Team_id']==team_id]['Person_id'].unique()\n",
    "            \n",
    "            for player in players_on_team:\n",
    "                player_data = game_lineup[game_lineup['Person_id'] == player].iloc[0] #ignore possessions\n",
    "                team_arr[player] = Player(player_data)\n",
    "                \n",
    "        return team1, team2"
   ]
  },
  {
   "cell_type": "code",
   "execution_count": 92,
   "metadata": {},
   "outputs": [],
   "source": [
    "class Player(object):\n",
    "    \n",
    "    def __init__(self, player_data):\n",
    "        self.player_id = player_data['Person_id']\n",
    "        self.team_id = player_data['Team_id']\n",
    "        self.active = player_data['status'] == 'A'\n",
    "        \n",
    "        self.off_points = 0\n",
    "        self.def_points = 0\n",
    "        \n",
    "        self.off_pos = 0\n",
    "        self.def_pos = 0"
   ]
  },
  {
   "cell_type": "code",
   "execution_count": 93,
   "metadata": {},
   "outputs": [],
   "source": [
    "game0_id = GameLineup.iloc[0]['Game_id']\n",
    "game0 = Game(game0_id, GameLineup, PlayByPlay)"
   ]
  },
  {
   "cell_type": "code",
   "execution_count": null,
   "metadata": {},
   "outputs": [],
   "source": []
  }
 ],
 "metadata": {
  "kernelspec": {
   "display_name": "Python 2",
   "language": "python",
   "name": "python2"
  },
  "language_info": {
   "codemirror_mode": {
    "name": "ipython",
    "version": 2
   },
   "file_extension": ".py",
   "mimetype": "text/x-python",
   "name": "python",
   "nbconvert_exporter": "python",
   "pygments_lexer": "ipython2",
   "version": "2.7.15rc1"
  }
 },
 "nbformat": 4,
 "nbformat_minor": 2
}
